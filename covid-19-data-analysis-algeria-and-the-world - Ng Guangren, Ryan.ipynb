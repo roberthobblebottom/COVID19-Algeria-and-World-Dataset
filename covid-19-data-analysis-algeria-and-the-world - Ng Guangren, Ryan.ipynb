{
 "cells": [
  {
   "cell_type": "markdown",
   "metadata": {
    "papermill": {
     "duration": 0.013007,
     "end_time": "2021-03-01T10:48:36.262996",
     "exception": false,
     "start_time": "2021-03-01T10:48:36.249989",
     "status": "completed"
    },
    "tags": []
   },
   "source": [
    "#      <center> COVID-19 Data Analysis: Algeria and the World </center>"
   ]
  },
  {
   "cell_type": "markdown",
   "metadata": {
    "papermill": {
     "duration": 0.011622,
     "end_time": "2021-03-01T10:48:36.286702",
     "exception": false,
     "start_time": "2021-03-01T10:48:36.275080",
     "status": "completed"
    },
    "tags": []
   },
   "source": [
    "### <center> Singhealth Singapore General Hospital Take Home Exercise </center>\n",
    "### <center> Ng Guangren, Ryan </center>"
   ]
  },
  {
   "cell_type": "code",
   "execution_count": 71,
   "metadata": {
    "execution": {
     "iopub.execute_input": "2021-03-01T10:48:36.340425Z",
     "iopub.status.busy": "2021-03-01T10:48:36.339601Z",
     "iopub.status.idle": "2021-03-01T10:48:37.209172Z",
     "shell.execute_reply": "2021-03-01T10:48:37.209813Z"
    },
    "papermill": {
     "duration": 0.887414,
     "end_time": "2021-03-01T10:48:37.209986",
     "exception": false,
     "start_time": "2021-03-01T10:48:36.322572",
     "status": "completed"
    },
    "tags": []
   },
   "outputs": [],
   "source": [
    "import pandas as pd\n",
    "import numpy as np\n",
    "import matplotlib.pyplot as plt\n",
    "import seaborn as sns\n",
    "from sklearn.impute import KNNImputer\n",
    "from sklearn.impute import SimpleImputer\n",
    "\n",
    "from sklearn.metrics.pairwise import nan_euclidean_distances\n",
    "\n",
    "import sqlite3\n"
   ]
  },
  {
   "cell_type": "code",
   "execution_count": 28,
   "metadata": {
    "execution": {
     "iopub.execute_input": "2021-03-01T10:48:37.264796Z",
     "iopub.status.busy": "2021-03-01T10:48:37.263915Z",
     "iopub.status.idle": "2021-03-01T10:48:37.391715Z",
     "shell.execute_reply": "2021-03-01T10:48:37.392270Z"
    },
    "papermill": {
     "duration": 0.143313,
     "end_time": "2021-03-01T10:48:37.392430",
     "exception": false,
     "start_time": "2021-03-01T10:48:37.249117",
     "status": "completed"
    },
    "tags": []
   },
   "outputs": [],
   "source": [
    "df = pd.read_csv(r\"Data.csv\")\n"
   ]
  },
  {
   "cell_type": "markdown",
   "metadata": {},
   "source": [
    "# Data Exploration"
   ]
  },
  {
   "cell_type": "code",
   "execution_count": 29,
   "metadata": {},
   "outputs": [
    {
     "name": "stdout",
     "output_type": "stream",
     "text": [
      "<class 'pandas.core.frame.DataFrame'>\n",
      "RangeIndex: 38472 entries, 0 to 38471\n",
      "Data columns (total 15 columns):\n",
      " #   Column                           Non-Null Count  Dtype  \n",
      "---  ------                           --------------  -----  \n",
      " 0   Entity                           38472 non-null  object \n",
      " 1   Continent                        38472 non-null  object \n",
      " 2   Latitude                         38472 non-null  float64\n",
      " 3   Longitude                        38472 non-null  float64\n",
      " 4   Average temperature per year     38472 non-null  int64  \n",
      " 5   Hospital beds per 1000 people    38472 non-null  float64\n",
      " 6   Medical doctors per 1000 people  38472 non-null  float64\n",
      " 7   GDP/Capita                       38472 non-null  float64\n",
      " 8   Population                       38472 non-null  int64  \n",
      " 9   Median age                       38472 non-null  int64  \n",
      " 10  Population aged 65 and over (%)  38472 non-null  int64  \n",
      " 11  Date                             38472 non-null  object \n",
      " 12  Daily tests                      30577 non-null  float64\n",
      " 13  Cases                            38218 non-null  float64\n",
      " 14  Deaths                           34862 non-null  float64\n",
      "dtypes: float64(8), int64(4), object(3)\n",
      "memory usage: 4.4+ MB\n"
     ]
    }
   ],
   "source": [
    "df.info()\n"
   ]
  },
  {
   "cell_type": "markdown",
   "metadata": {},
   "source": [
    "Turning object type features into string and datetime respectively helps in narrowingg down the scope. For example numbers cannot be placed in a string feature. It also allows data type specific operations.[<sup>1</sup>](https://towardsdatascience.com/why-we-need-to-use-pandas-new-string-dtype-instead-of-object-for-textual-data-6fd419842e24)"
   ]
  },
  {
   "cell_type": "code",
   "execution_count": 30,
   "metadata": {},
   "outputs": [],
   "source": [
    "object_to_string = {\n",
    "    'Entity': 'string',\n",
    "    'Continent': 'string',\n",
    "}\n",
    "\n",
    "df = df.astype(object_to_string)\n",
    "df[\"Date\"] = pd.to_datetime(df.Date)\n"
   ]
  },
  {
   "cell_type": "code",
   "execution_count": 31,
   "metadata": {
    "execution": {
     "iopub.execute_input": "2021-03-01T10:48:37.446493Z",
     "iopub.status.busy": "2021-03-01T10:48:37.445593Z",
     "iopub.status.idle": "2021-03-01T10:48:37.489854Z",
     "shell.execute_reply": "2021-03-01T10:48:37.490390Z"
    },
    "papermill": {
     "duration": 0.060157,
     "end_time": "2021-03-01T10:48:37.490548",
     "exception": false,
     "start_time": "2021-03-01T10:48:37.430391",
     "status": "completed"
    },
    "scrolled": true,
    "tags": []
   },
   "outputs": [
    {
     "data": {
      "text/html": [
       "<div>\n",
       "<style scoped>\n",
       "    .dataframe tbody tr th:only-of-type {\n",
       "        vertical-align: middle;\n",
       "    }\n",
       "\n",
       "    .dataframe tbody tr th {\n",
       "        vertical-align: top;\n",
       "    }\n",
       "\n",
       "    .dataframe thead th {\n",
       "        text-align: right;\n",
       "    }\n",
       "</style>\n",
       "<table border=\"1\" class=\"dataframe\">\n",
       "  <thead>\n",
       "    <tr style=\"text-align: right;\">\n",
       "      <th></th>\n",
       "      <th>Entity</th>\n",
       "      <th>Continent</th>\n",
       "      <th>Latitude</th>\n",
       "      <th>Longitude</th>\n",
       "      <th>Average temperature per year</th>\n",
       "      <th>Hospital beds per 1000 people</th>\n",
       "      <th>Medical doctors per 1000 people</th>\n",
       "      <th>GDP/Capita</th>\n",
       "      <th>Population</th>\n",
       "      <th>Median age</th>\n",
       "      <th>Population aged 65 and over (%)</th>\n",
       "      <th>Date</th>\n",
       "      <th>Daily tests</th>\n",
       "      <th>Cases</th>\n",
       "      <th>Deaths</th>\n",
       "    </tr>\n",
       "  </thead>\n",
       "  <tbody>\n",
       "    <tr>\n",
       "      <th>0</th>\n",
       "      <td>Albania</td>\n",
       "      <td>Europe</td>\n",
       "      <td>41.15</td>\n",
       "      <td>20.17</td>\n",
       "      <td>14</td>\n",
       "      <td>2.89</td>\n",
       "      <td>1.29</td>\n",
       "      <td>5353.2</td>\n",
       "      <td>2873457</td>\n",
       "      <td>38</td>\n",
       "      <td>14</td>\n",
       "      <td>2020-02-25</td>\n",
       "      <td>8.0</td>\n",
       "      <td>NaN</td>\n",
       "      <td>NaN</td>\n",
       "    </tr>\n",
       "    <tr>\n",
       "      <th>1</th>\n",
       "      <td>Albania</td>\n",
       "      <td>Europe</td>\n",
       "      <td>41.15</td>\n",
       "      <td>20.17</td>\n",
       "      <td>14</td>\n",
       "      <td>2.89</td>\n",
       "      <td>1.29</td>\n",
       "      <td>5353.2</td>\n",
       "      <td>2873457</td>\n",
       "      <td>38</td>\n",
       "      <td>14</td>\n",
       "      <td>2020-02-26</td>\n",
       "      <td>5.0</td>\n",
       "      <td>NaN</td>\n",
       "      <td>NaN</td>\n",
       "    </tr>\n",
       "    <tr>\n",
       "      <th>2</th>\n",
       "      <td>Albania</td>\n",
       "      <td>Europe</td>\n",
       "      <td>41.15</td>\n",
       "      <td>20.17</td>\n",
       "      <td>14</td>\n",
       "      <td>2.89</td>\n",
       "      <td>1.29</td>\n",
       "      <td>5353.2</td>\n",
       "      <td>2873457</td>\n",
       "      <td>38</td>\n",
       "      <td>14</td>\n",
       "      <td>2020-02-27</td>\n",
       "      <td>4.0</td>\n",
       "      <td>NaN</td>\n",
       "      <td>NaN</td>\n",
       "    </tr>\n",
       "    <tr>\n",
       "      <th>3</th>\n",
       "      <td>Albania</td>\n",
       "      <td>Europe</td>\n",
       "      <td>41.15</td>\n",
       "      <td>20.17</td>\n",
       "      <td>14</td>\n",
       "      <td>2.89</td>\n",
       "      <td>1.29</td>\n",
       "      <td>5353.2</td>\n",
       "      <td>2873457</td>\n",
       "      <td>38</td>\n",
       "      <td>14</td>\n",
       "      <td>2020-02-28</td>\n",
       "      <td>1.0</td>\n",
       "      <td>NaN</td>\n",
       "      <td>NaN</td>\n",
       "    </tr>\n",
       "    <tr>\n",
       "      <th>4</th>\n",
       "      <td>Albania</td>\n",
       "      <td>Europe</td>\n",
       "      <td>41.15</td>\n",
       "      <td>20.17</td>\n",
       "      <td>14</td>\n",
       "      <td>2.89</td>\n",
       "      <td>1.29</td>\n",
       "      <td>5353.2</td>\n",
       "      <td>2873457</td>\n",
       "      <td>38</td>\n",
       "      <td>14</td>\n",
       "      <td>2020-02-29</td>\n",
       "      <td>8.0</td>\n",
       "      <td>NaN</td>\n",
       "      <td>NaN</td>\n",
       "    </tr>\n",
       "    <tr>\n",
       "      <th>...</th>\n",
       "      <td>...</td>\n",
       "      <td>...</td>\n",
       "      <td>...</td>\n",
       "      <td>...</td>\n",
       "      <td>...</td>\n",
       "      <td>...</td>\n",
       "      <td>...</td>\n",
       "      <td>...</td>\n",
       "      <td>...</td>\n",
       "      <td>...</td>\n",
       "      <td>...</td>\n",
       "      <td>...</td>\n",
       "      <td>...</td>\n",
       "      <td>...</td>\n",
       "      <td>...</td>\n",
       "    </tr>\n",
       "    <tr>\n",
       "      <th>38467</th>\n",
       "      <td>Zimbabwe</td>\n",
       "      <td>Africa</td>\n",
       "      <td>-19.02</td>\n",
       "      <td>29.15</td>\n",
       "      <td>20</td>\n",
       "      <td>1.70</td>\n",
       "      <td>0.08</td>\n",
       "      <td>1464.0</td>\n",
       "      <td>16529904</td>\n",
       "      <td>19</td>\n",
       "      <td>3</td>\n",
       "      <td>2021-02-24</td>\n",
       "      <td>1804.0</td>\n",
       "      <td>35960.0</td>\n",
       "      <td>1456.0</td>\n",
       "    </tr>\n",
       "    <tr>\n",
       "      <th>38468</th>\n",
       "      <td>Zimbabwe</td>\n",
       "      <td>Africa</td>\n",
       "      <td>-19.02</td>\n",
       "      <td>29.15</td>\n",
       "      <td>20</td>\n",
       "      <td>1.70</td>\n",
       "      <td>0.08</td>\n",
       "      <td>1464.0</td>\n",
       "      <td>16529904</td>\n",
       "      <td>19</td>\n",
       "      <td>3</td>\n",
       "      <td>2021-02-25</td>\n",
       "      <td>2965.0</td>\n",
       "      <td>35994.0</td>\n",
       "      <td>1458.0</td>\n",
       "    </tr>\n",
       "    <tr>\n",
       "      <th>38469</th>\n",
       "      <td>Zimbabwe</td>\n",
       "      <td>Africa</td>\n",
       "      <td>-19.02</td>\n",
       "      <td>29.15</td>\n",
       "      <td>20</td>\n",
       "      <td>1.70</td>\n",
       "      <td>0.08</td>\n",
       "      <td>1464.0</td>\n",
       "      <td>16529904</td>\n",
       "      <td>19</td>\n",
       "      <td>3</td>\n",
       "      <td>2021-02-26</td>\n",
       "      <td>NaN</td>\n",
       "      <td>36044.0</td>\n",
       "      <td>1463.0</td>\n",
       "    </tr>\n",
       "    <tr>\n",
       "      <th>38470</th>\n",
       "      <td>Zimbabwe</td>\n",
       "      <td>Africa</td>\n",
       "      <td>-19.02</td>\n",
       "      <td>29.15</td>\n",
       "      <td>20</td>\n",
       "      <td>1.70</td>\n",
       "      <td>0.08</td>\n",
       "      <td>1464.0</td>\n",
       "      <td>16529904</td>\n",
       "      <td>19</td>\n",
       "      <td>3</td>\n",
       "      <td>2021-02-27</td>\n",
       "      <td>NaN</td>\n",
       "      <td>36058.0</td>\n",
       "      <td>1463.0</td>\n",
       "    </tr>\n",
       "    <tr>\n",
       "      <th>38471</th>\n",
       "      <td>Zimbabwe</td>\n",
       "      <td>Africa</td>\n",
       "      <td>-19.02</td>\n",
       "      <td>29.15</td>\n",
       "      <td>20</td>\n",
       "      <td>1.70</td>\n",
       "      <td>0.08</td>\n",
       "      <td>1464.0</td>\n",
       "      <td>16529904</td>\n",
       "      <td>19</td>\n",
       "      <td>3</td>\n",
       "      <td>2021-02-28</td>\n",
       "      <td>NaN</td>\n",
       "      <td>36089.0</td>\n",
       "      <td>1463.0</td>\n",
       "    </tr>\n",
       "  </tbody>\n",
       "</table>\n",
       "<p>38472 rows × 15 columns</p>\n",
       "</div>"
      ],
      "text/plain": [
       "         Entity Continent  Latitude  Longitude  Average temperature per year  \\\n",
       "0       Albania    Europe     41.15      20.17                            14   \n",
       "1       Albania    Europe     41.15      20.17                            14   \n",
       "2       Albania    Europe     41.15      20.17                            14   \n",
       "3       Albania    Europe     41.15      20.17                            14   \n",
       "4       Albania    Europe     41.15      20.17                            14   \n",
       "...         ...       ...       ...        ...                           ...   \n",
       "38467  Zimbabwe    Africa    -19.02      29.15                            20   \n",
       "38468  Zimbabwe    Africa    -19.02      29.15                            20   \n",
       "38469  Zimbabwe    Africa    -19.02      29.15                            20   \n",
       "38470  Zimbabwe    Africa    -19.02      29.15                            20   \n",
       "38471  Zimbabwe    Africa    -19.02      29.15                            20   \n",
       "\n",
       "       Hospital beds per 1000 people  Medical doctors per 1000 people  \\\n",
       "0                               2.89                             1.29   \n",
       "1                               2.89                             1.29   \n",
       "2                               2.89                             1.29   \n",
       "3                               2.89                             1.29   \n",
       "4                               2.89                             1.29   \n",
       "...                              ...                              ...   \n",
       "38467                           1.70                             0.08   \n",
       "38468                           1.70                             0.08   \n",
       "38469                           1.70                             0.08   \n",
       "38470                           1.70                             0.08   \n",
       "38471                           1.70                             0.08   \n",
       "\n",
       "       GDP/Capita  Population  Median age  Population aged 65 and over (%)  \\\n",
       "0          5353.2     2873457          38                               14   \n",
       "1          5353.2     2873457          38                               14   \n",
       "2          5353.2     2873457          38                               14   \n",
       "3          5353.2     2873457          38                               14   \n",
       "4          5353.2     2873457          38                               14   \n",
       "...           ...         ...         ...                              ...   \n",
       "38467      1464.0    16529904          19                                3   \n",
       "38468      1464.0    16529904          19                                3   \n",
       "38469      1464.0    16529904          19                                3   \n",
       "38470      1464.0    16529904          19                                3   \n",
       "38471      1464.0    16529904          19                                3   \n",
       "\n",
       "            Date  Daily tests    Cases  Deaths  \n",
       "0     2020-02-25          8.0      NaN     NaN  \n",
       "1     2020-02-26          5.0      NaN     NaN  \n",
       "2     2020-02-27          4.0      NaN     NaN  \n",
       "3     2020-02-28          1.0      NaN     NaN  \n",
       "4     2020-02-29          8.0      NaN     NaN  \n",
       "...          ...          ...      ...     ...  \n",
       "38467 2021-02-24       1804.0  35960.0  1456.0  \n",
       "38468 2021-02-25       2965.0  35994.0  1458.0  \n",
       "38469 2021-02-26          NaN  36044.0  1463.0  \n",
       "38470 2021-02-27          NaN  36058.0  1463.0  \n",
       "38471 2021-02-28          NaN  36089.0  1463.0  \n",
       "\n",
       "[38472 rows x 15 columns]"
      ]
     },
     "execution_count": 31,
     "metadata": {},
     "output_type": "execute_result"
    }
   ],
   "source": [
    "df = df.round(3)\n",
    "df\n"
   ]
  },
  {
   "cell_type": "code",
   "execution_count": 32,
   "metadata": {},
   "outputs": [
    {
     "data": {
      "text/plain": [
       "<StringArray>\n",
       "[             'Albania',              'Algeria',            'Argentina',\n",
       "              'Armenia',            'Australia',              'Austria',\n",
       "              'Bahrain',           'Bangladesh',              'Belarus',\n",
       "              'Belgium',\n",
       " ...\n",
       "               'Turkey',               'Uganda',              'Ukraine',\n",
       " 'United Arab Emirates',       'United Kingdom',        'United States',\n",
       "              'Uruguay',              'Vietnam',               'Zambia',\n",
       "             'Zimbabwe']\n",
       "Length: 104, dtype: string"
      ]
     },
     "execution_count": 32,
     "metadata": {},
     "output_type": "execute_result"
    }
   ],
   "source": [
    "df.Entity.unique()\n"
   ]
  },
  {
   "cell_type": "markdown",
   "metadata": {},
   "source": [
    "The word \"Entity\" is a little too generalised. I will consider them as countries as it is synonmous as sovereign states. "
   ]
  },
  {
   "cell_type": "code",
   "execution_count": 33,
   "metadata": {},
   "outputs": [],
   "source": [
    "df.rename({\"Entity\": \"Country\", \"GDP/Capita\": \"GDP per capita\"},\n",
    "          inplace=True, axis=1)\n"
   ]
  },
  {
   "cell_type": "code",
   "execution_count": 34,
   "metadata": {
    "execution": {
     "iopub.execute_input": "2021-03-01T10:48:37.547617Z",
     "iopub.status.busy": "2021-03-01T10:48:37.546997Z",
     "iopub.status.idle": "2021-03-01T10:48:37.565972Z",
     "shell.execute_reply": "2021-03-01T10:48:37.565432Z"
    },
    "papermill": {
     "duration": 0.0362,
     "end_time": "2021-03-01T10:48:37.566078",
     "exception": false,
     "start_time": "2021-03-01T10:48:37.529878",
     "status": "completed"
    },
    "tags": []
   },
   "outputs": [
    {
     "data": {
      "text/plain": [
       "Country                               0\n",
       "Continent                             0\n",
       "Latitude                              0\n",
       "Longitude                             0\n",
       "Average temperature per year          0\n",
       "Hospital beds per 1000 people         0\n",
       "Medical doctors per 1000 people       0\n",
       "GDP per capita                        0\n",
       "Population                            0\n",
       "Median age                            0\n",
       "Population aged 65 and over (%)       0\n",
       "Date                                  0\n",
       "Daily tests                        7895\n",
       "Cases                               254\n",
       "Deaths                             3610\n",
       "dtype: int64"
      ]
     },
     "execution_count": 34,
     "metadata": {},
     "output_type": "execute_result"
    }
   ],
   "source": [
    "df.isnull().sum()\n"
   ]
  },
  {
   "cell_type": "code",
   "execution_count": 35,
   "metadata": {},
   "outputs": [],
   "source": [
    "# df.groupby('Country').mean(numeric_only=True)[[\"Daily tests\",\"Cases\",\"Deaths\"]].sort_values([\"Daily tests\",\"Cases\",\"Deaths\"]).head(20)\n"
   ]
  },
  {
   "cell_type": "code",
   "execution_count": 36,
   "metadata": {},
   "outputs": [
    {
     "data": {
      "text/plain": [
       "Daily tests    False\n",
       "Cases          False\n",
       "Deaths         False\n",
       "dtype: bool"
      ]
     },
     "execution_count": 36,
     "metadata": {},
     "output_type": "execute_result"
    }
   ],
   "source": [
    "df.groupby('Country').mean()[[\"Daily tests\", \"Cases\", \"Deaths\"]].isnull().any()\n"
   ]
  },
  {
   "cell_type": "markdown",
   "metadata": {},
   "source": [
    "This cell above shows that after grouping by country, each country has at least one numerical value so calculating mean doesn't not return null."
   ]
  },
  {
   "cell_type": "code",
   "execution_count": 70,
   "metadata": {},
   "outputs": [],
   "source": [
    "# imputer =KNNImputer(n_neighbors=1)\n",
    "# imputer.fit_transform(df[[\"Daily tests\", \"Cases\", \"Deaths\"]])"
   ]
  },
  {
   "cell_type": "code",
   "execution_count": 58,
   "metadata": {},
   "outputs": [],
   "source": [
    "\n",
    "# print(df.index)\n",
    "\n",
    "# for name, group in df.groupby('Country'):\n",
    "#     nan_e_dist = nan_euclidean_distances(group[[\"Daily tests\"]])\n",
    "#     num = list(filter(lambda x: x > 0, sorted(nan_e_dist[0])))[0]\n",
    "#     print(type(group))\n",
    "#     imputer = KNNImputer(n_neighbors=num)\n",
    "#     # print(df[df.Country == name][[\"Daily tests\", \"Cases\", \"Deaths\"]])\n",
    "#     print(group[[\"Daily tests\", \"Cases\", \"Deaths\"]].index)\n",
    "#     t = group[[\"Daily tests\", \"Cases\", \"Deaths\"]]\n",
    "#     # t.reset_index(inplace=True)\n",
    "#     t = pd.DataFrame(t)\n",
    "#     print(t)\n",
    "#     x = imputer.fit_transform(X=t)\n",
    "#     print(x)\n",
    "#     break\n",
    "\n",
    "# imputer = KNNImputer(n_neighbors=1)\n"
   ]
  },
  {
   "cell_type": "markdown",
   "metadata": {},
   "source": [
    "https://www.analyticsvidhya.com/blog/2020/07/knnimputer-a-robust-way-to-impute-missing-values-using-scikit-learn/"
   ]
  },
  {
   "cell_type": "code",
   "execution_count": 68,
   "metadata": {},
   "outputs": [
    {
     "data": {
      "text/plain": [
       "Country                            False\n",
       "Continent                          False\n",
       "Latitude                           False\n",
       "Longitude                          False\n",
       "Average temperature per year       False\n",
       "Hospital beds per 1000 people      False\n",
       "Medical doctors per 1000 people    False\n",
       "GDP per capita                     False\n",
       "Population                         False\n",
       "Median age                         False\n",
       "Population aged 65 and over (%)    False\n",
       "Date                               False\n",
       "Daily tests                        False\n",
       "Cases                              False\n",
       "Deaths                             False\n",
       "dtype: bool"
      ]
     },
     "execution_count": 68,
     "metadata": {},
     "output_type": "execute_result"
    }
   ],
   "source": [
    "imputer = SimpleImputer()\n",
    "\n",
    "df[[\"Daily tests\", \"Cases\", \"Deaths\"]] =imputer.fit_transform(df[[\"Daily tests\", \"Cases\", \"Deaths\"]])\n",
    "\n",
    "df.isnull().any()"
   ]
  },
  {
   "cell_type": "code",
   "execution_count": 5,
   "metadata": {
    "execution": {
     "iopub.execute_input": "2021-03-01T10:48:37.597182Z",
     "iopub.status.busy": "2021-03-01T10:48:37.596579Z",
     "iopub.status.idle": "2021-03-01T10:48:38.103212Z",
     "shell.execute_reply": "2021-03-01T10:48:38.103712Z"
    },
    "papermill": {
     "duration": 0.523725,
     "end_time": "2021-03-01T10:48:38.103844",
     "exception": false,
     "start_time": "2021-03-01T10:48:37.580119",
     "status": "completed"
    },
    "tags": []
   },
   "outputs": [],
   "source": [
    "# df = df.groupby('Country').apply(lambda x: x.fillna(method='ffill'))\n",
    "# df = df.groupby('Country').apply(lambda x: x.fillna(method='bfill'))\n",
    "# df = df[df.Cases > 0]\n"
   ]
  },
  {
   "cell_type": "markdown",
   "metadata": {
    "papermill": {
     "duration": 0.013496,
     "end_time": "2021-03-01T10:48:38.131294",
     "exception": false,
     "start_time": "2021-03-01T10:48:38.117798",
     "status": "completed"
    },
    "tags": []
   },
   "source": [
    "# 5- Statistical description of the data"
   ]
  },
  {
   "cell_type": "code",
   "execution_count": 69,
   "metadata": {
    "execution": {
     "iopub.execute_input": "2021-03-01T10:48:38.162128Z",
     "iopub.status.busy": "2021-03-01T10:48:38.161556Z",
     "iopub.status.idle": "2021-03-01T10:48:38.216656Z",
     "shell.execute_reply": "2021-03-01T10:48:38.217107Z"
    },
    "papermill": {
     "duration": 0.072098,
     "end_time": "2021-03-01T10:48:38.217253",
     "exception": false,
     "start_time": "2021-03-01T10:48:38.145155",
     "status": "completed"
    },
    "scrolled": true,
    "tags": []
   },
   "outputs": [
    {
     "data": {
      "text/html": [
       "<div>\n",
       "<style scoped>\n",
       "    .dataframe tbody tr th:only-of-type {\n",
       "        vertical-align: middle;\n",
       "    }\n",
       "\n",
       "    .dataframe tbody tr th {\n",
       "        vertical-align: top;\n",
       "    }\n",
       "\n",
       "    .dataframe thead th {\n",
       "        text-align: right;\n",
       "    }\n",
       "</style>\n",
       "<table border=\"1\" class=\"dataframe\">\n",
       "  <thead>\n",
       "    <tr style=\"text-align: right;\">\n",
       "      <th></th>\n",
       "      <th>Latitude</th>\n",
       "      <th>Longitude</th>\n",
       "      <th>Average temperature per year</th>\n",
       "      <th>Hospital beds per 1000 people</th>\n",
       "      <th>Medical doctors per 1000 people</th>\n",
       "      <th>GDP per capita</th>\n",
       "      <th>Population</th>\n",
       "      <th>Median age</th>\n",
       "      <th>Population aged 65 and over (%)</th>\n",
       "      <th>Daily tests</th>\n",
       "      <th>Cases</th>\n",
       "      <th>Deaths</th>\n",
       "    </tr>\n",
       "  </thead>\n",
       "  <tbody>\n",
       "    <tr>\n",
       "      <th>count</th>\n",
       "      <td>38472.00</td>\n",
       "      <td>38472.00</td>\n",
       "      <td>38472.00</td>\n",
       "      <td>38472.00</td>\n",
       "      <td>38472.00</td>\n",
       "      <td>38472.00</td>\n",
       "      <td>3.847200e+04</td>\n",
       "      <td>38472.00</td>\n",
       "      <td>38472.00</td>\n",
       "      <td>38472.00</td>\n",
       "      <td>38472.00</td>\n",
       "      <td>38472.00</td>\n",
       "    </tr>\n",
       "    <tr>\n",
       "      <th>mean</th>\n",
       "      <td>23.74</td>\n",
       "      <td>20.21</td>\n",
       "      <td>17.72</td>\n",
       "      <td>3.17</td>\n",
       "      <td>2.09</td>\n",
       "      <td>19002.33</td>\n",
       "      <td>4.896983e+07</td>\n",
       "      <td>32.75</td>\n",
       "      <td>10.66</td>\n",
       "      <td>39440.59</td>\n",
       "      <td>287902.66</td>\n",
       "      <td>8090.50</td>\n",
       "    </tr>\n",
       "    <tr>\n",
       "      <th>std</th>\n",
       "      <td>26.06</td>\n",
       "      <td>61.07</td>\n",
       "      <td>8.13</td>\n",
       "      <td>2.56</td>\n",
       "      <td>1.52</td>\n",
       "      <td>22271.11</td>\n",
       "      <td>1.427251e+08</td>\n",
       "      <td>8.47</td>\n",
       "      <td>6.77</td>\n",
       "      <td>133890.32</td>\n",
       "      <td>1400596.22</td>\n",
       "      <td>28128.23</td>\n",
       "    </tr>\n",
       "    <tr>\n",
       "      <th>min</th>\n",
       "      <td>-40.90</td>\n",
       "      <td>-106.35</td>\n",
       "      <td>-2.00</td>\n",
       "      <td>0.20</td>\n",
       "      <td>0.02</td>\n",
       "      <td>411.60</td>\n",
       "      <td>3.412840e+05</td>\n",
       "      <td>16.00</td>\n",
       "      <td>1.00</td>\n",
       "      <td>-239172.00</td>\n",
       "      <td>1.00</td>\n",
       "      <td>1.00</td>\n",
       "    </tr>\n",
       "    <tr>\n",
       "      <th>25%</th>\n",
       "      <td>8.62</td>\n",
       "      <td>-3.44</td>\n",
       "      <td>11.00</td>\n",
       "      <td>1.40</td>\n",
       "      <td>0.82</td>\n",
       "      <td>3659.00</td>\n",
       "      <td>4.793900e+06</td>\n",
       "      <td>27.00</td>\n",
       "      <td>5.00</td>\n",
       "      <td>2244.75</td>\n",
       "      <td>2101.00</td>\n",
       "      <td>103.00</td>\n",
       "    </tr>\n",
       "    <tr>\n",
       "      <th>50%</th>\n",
       "      <td>27.51</td>\n",
       "      <td>21.82</td>\n",
       "      <td>20.00</td>\n",
       "      <td>2.50</td>\n",
       "      <td>1.89</td>\n",
       "      <td>8821.80</td>\n",
       "      <td>1.148464e+07</td>\n",
       "      <td>32.00</td>\n",
       "      <td>8.00</td>\n",
       "      <td>11055.00</td>\n",
       "      <td>22246.50</td>\n",
       "      <td>766.00</td>\n",
       "    </tr>\n",
       "    <tr>\n",
       "      <th>75%</th>\n",
       "      <td>45.94</td>\n",
       "      <td>47.48</td>\n",
       "      <td>25.00</td>\n",
       "      <td>4.49</td>\n",
       "      <td>3.21</td>\n",
       "      <td>25946.20</td>\n",
       "      <td>4.286296e+07</td>\n",
       "      <td>41.00</td>\n",
       "      <td>16.00</td>\n",
       "      <td>39440.59</td>\n",
       "      <td>141121.75</td>\n",
       "      <td>7539.25</td>\n",
       "    </tr>\n",
       "    <tr>\n",
       "      <th>max</th>\n",
       "      <td>64.96</td>\n",
       "      <td>179.41</td>\n",
       "      <td>29.00</td>\n",
       "      <td>13.05</td>\n",
       "      <td>7.52</td>\n",
       "      <td>114704.60</td>\n",
       "      <td>1.339180e+09</td>\n",
       "      <td>48.00</td>\n",
       "      <td>28.00</td>\n",
       "      <td>2945871.00</td>\n",
       "      <td>28605669.00</td>\n",
       "      <td>513091.00</td>\n",
       "    </tr>\n",
       "  </tbody>\n",
       "</table>\n",
       "</div>"
      ],
      "text/plain": [
       "       Latitude  Longitude  Average temperature per year  \\\n",
       "count  38472.00   38472.00                      38472.00   \n",
       "mean      23.74      20.21                         17.72   \n",
       "std       26.06      61.07                          8.13   \n",
       "min      -40.90    -106.35                         -2.00   \n",
       "25%        8.62      -3.44                         11.00   \n",
       "50%       27.51      21.82                         20.00   \n",
       "75%       45.94      47.48                         25.00   \n",
       "max       64.96     179.41                         29.00   \n",
       "\n",
       "       Hospital beds per 1000 people  Medical doctors per 1000 people  \\\n",
       "count                       38472.00                         38472.00   \n",
       "mean                            3.17                             2.09   \n",
       "std                             2.56                             1.52   \n",
       "min                             0.20                             0.02   \n",
       "25%                             1.40                             0.82   \n",
       "50%                             2.50                             1.89   \n",
       "75%                             4.49                             3.21   \n",
       "max                            13.05                             7.52   \n",
       "\n",
       "       GDP per capita    Population  Median age  \\\n",
       "count        38472.00  3.847200e+04    38472.00   \n",
       "mean         19002.33  4.896983e+07       32.75   \n",
       "std          22271.11  1.427251e+08        8.47   \n",
       "min            411.60  3.412840e+05       16.00   \n",
       "25%           3659.00  4.793900e+06       27.00   \n",
       "50%           8821.80  1.148464e+07       32.00   \n",
       "75%          25946.20  4.286296e+07       41.00   \n",
       "max         114704.60  1.339180e+09       48.00   \n",
       "\n",
       "       Population aged 65 and over (%)  Daily tests        Cases     Deaths  \n",
       "count                         38472.00     38472.00     38472.00   38472.00  \n",
       "mean                             10.66     39440.59    287902.66    8090.50  \n",
       "std                               6.77    133890.32   1400596.22   28128.23  \n",
       "min                               1.00   -239172.00         1.00       1.00  \n",
       "25%                               5.00      2244.75      2101.00     103.00  \n",
       "50%                               8.00     11055.00     22246.50     766.00  \n",
       "75%                              16.00     39440.59    141121.75    7539.25  \n",
       "max                              28.00   2945871.00  28605669.00  513091.00  "
      ]
     },
     "execution_count": 69,
     "metadata": {},
     "output_type": "execute_result"
    }
   ],
   "source": [
    "df.describe().round(2)\n"
   ]
  },
  {
   "cell_type": "markdown",
   "metadata": {},
   "source": [
    "# Sqlite3 Setup, creations and insertions"
   ]
  },
  {
   "cell_type": "code",
   "execution_count": null,
   "metadata": {},
   "outputs": [],
   "source": []
  },
  {
   "cell_type": "markdown",
   "metadata": {
    "papermill": {
     "duration": 0.020636,
     "end_time": "2021-03-01T10:48:39.442348",
     "exception": false,
     "start_time": "2021-03-01T10:48:39.421712",
     "status": "completed"
    },
    "tags": []
   },
   "source": [
    "# 6- Visualize the data"
   ]
  }
 ],
 "metadata": {
  "kernelspec": {
   "display_name": "Python 3.8.8 ('base')",
   "language": "python",
   "name": "python3"
  },
  "language_info": {
   "codemirror_mode": {
    "name": "ipython",
    "version": 3
   },
   "file_extension": ".py",
   "mimetype": "text/x-python",
   "name": "python",
   "nbconvert_exporter": "python",
   "pygments_lexer": "ipython3",
   "version": "3.10.4"
  },
  "papermill": {
   "duration": 14.119366,
   "end_time": "2021-03-01T10:48:46.249320",
   "environment_variables": {},
   "exception": null,
   "input_path": "__notebook__.ipynb",
   "output_path": "__notebook__.ipynb",
   "parameters": {},
   "start_time": "2021-03-01T10:48:32.129954",
   "version": "2.1.0"
  },
  "vscode": {
   "interpreter": {
    "hash": "569d0bbc3854db4a73f5be0bb5576848176d13611564839ca8e34057b1299597"
   }
  }
 },
 "nbformat": 4,
 "nbformat_minor": 4
}
